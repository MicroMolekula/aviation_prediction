{
 "cells": [
  {
   "cell_type": "code",
   "execution_count": 1,
   "id": "02978dab-c33d-44b5-949d-2d2c6a583798",
   "metadata": {},
   "outputs": [
    {
     "name": "stderr",
     "output_type": "stream",
     "text": [
      "2024-06-02 13:38:57.616292: I external/local_tsl/tsl/cuda/cudart_stub.cc:32] Could not find cuda drivers on your machine, GPU will not be used.\n",
      "2024-06-02 13:38:57.789888: I external/local_tsl/tsl/cuda/cudart_stub.cc:32] Could not find cuda drivers on your machine, GPU will not be used.\n",
      "2024-06-02 13:38:58.449702: I tensorflow/core/platform/cpu_feature_guard.cc:210] This TensorFlow binary is optimized to use available CPU instructions in performance-critical operations.\n",
      "To enable the following instructions: AVX2 FMA, in other operations, rebuild TensorFlow with the appropriate compiler flags.\n",
      "2024-06-02 13:38:59.678274: W tensorflow/compiler/tf2tensorrt/utils/py_utils.cc:38] TF-TRT Warning: Could not find TensorRT\n"
     ]
    }
   ],
   "source": [
    "import pandas as pd\n",
    "import matplotlib.pyplot as plt\n",
    "import statistics as st\n",
    "import re\n",
    "from keras.utils import to_categorical\n",
    "from tensorflow.keras import models\n",
    "from tensorflow.keras import layers\n",
    "from tensorflow.keras.optimizers import Adam\n",
    "import math\n",
    "import numpy as np"
   ]
  },
  {
   "cell_type": "code",
   "execution_count": 2,
   "id": "2909bbb4-c4c6-4597-beae-f9e841cb8cdc",
   "metadata": {},
   "outputs": [],
   "source": [
    "filename = \"~/dev/avia/Train.xlsx\"\n",
    "df_economy = pd.read_excel(filename, sheet_name=\"economy\")\n",
    "df_business = pd.read_excel(filename, sheet_name=\"business\")"
   ]
  },
  {
   "cell_type": "code",
   "execution_count": 3,
   "id": "05680fa0-0cb8-45a0-a823-402722f61531",
   "metadata": {},
   "outputs": [],
   "source": [
    "df_economy[\"class\"] = [0. for i in range(len(df_economy))]\n",
    "df_business[\"class\"] = [1. for i in range(len(df_business))]\n",
    "data = pd.concat([df_economy, df_business])"
   ]
  },
  {
   "cell_type": "code",
   "execution_count": 4,
   "id": "f71b74cb-3b5e-4217-8160-753a62fd5ff4",
   "metadata": {},
   "outputs": [
    {
     "data": {
      "text/html": [
       "<div>\n",
       "<style scoped>\n",
       "    .dataframe tbody tr th:only-of-type {\n",
       "        vertical-align: middle;\n",
       "    }\n",
       "\n",
       "    .dataframe tbody tr th {\n",
       "        vertical-align: top;\n",
       "    }\n",
       "\n",
       "    .dataframe thead th {\n",
       "        text-align: right;\n",
       "    }\n",
       "</style>\n",
       "<table border=\"1\" class=\"dataframe\">\n",
       "  <thead>\n",
       "    <tr style=\"text-align: right;\">\n",
       "      <th></th>\n",
       "      <th>date</th>\n",
       "      <th>airline</th>\n",
       "      <th>ch_code</th>\n",
       "      <th>num_code</th>\n",
       "      <th>dep_time</th>\n",
       "      <th>from</th>\n",
       "      <th>time_taken</th>\n",
       "      <th>stop</th>\n",
       "      <th>arr_time</th>\n",
       "      <th>to</th>\n",
       "      <th>price</th>\n",
       "      <th>class</th>\n",
       "    </tr>\n",
       "  </thead>\n",
       "  <tbody>\n",
       "    <tr>\n",
       "      <th>0</th>\n",
       "      <td>24-03-2022</td>\n",
       "      <td>GO FIRST</td>\n",
       "      <td>G8</td>\n",
       "      <td>7559</td>\n",
       "      <td>15:30</td>\n",
       "      <td>Bangalore</td>\n",
       "      <td>02h 30m</td>\n",
       "      <td>non-stop</td>\n",
       "      <td>18:00</td>\n",
       "      <td>Kolkata</td>\n",
       "      <td>3,845</td>\n",
       "      <td>0.0</td>\n",
       "    </tr>\n",
       "    <tr>\n",
       "      <th>1</th>\n",
       "      <td>08-03-2022</td>\n",
       "      <td>GO FIRST</td>\n",
       "      <td>G8</td>\n",
       "      <td>395</td>\n",
       "      <td>08:10</td>\n",
       "      <td>Bangalore</td>\n",
       "      <td>08h 25m</td>\n",
       "      <td>1-stop\\n\\t\\t\\t\\t\\t\\t\\t\\t\\t\\t\\t\\t\\n\\t\\t\\t\\t\\t\\t...</td>\n",
       "      <td>16:35</td>\n",
       "      <td>Delhi</td>\n",
       "      <td>4,028</td>\n",
       "      <td>0.0</td>\n",
       "    </tr>\n",
       "    <tr>\n",
       "      <th>2</th>\n",
       "      <td>22-02-2022</td>\n",
       "      <td>Air India</td>\n",
       "      <td>AI</td>\n",
       "      <td>868</td>\n",
       "      <td>18:00</td>\n",
       "      <td>Delhi</td>\n",
       "      <td>16h 55m</td>\n",
       "      <td>1-stop\\n\\t\\t\\t\\t\\t\\t\\t\\t\\t\\t\\t\\t\\n\\t\\t\\t\\t\\t\\t...</td>\n",
       "      <td>10:55</td>\n",
       "      <td>Chennai</td>\n",
       "      <td>11,520</td>\n",
       "      <td>0.0</td>\n",
       "    </tr>\n",
       "    <tr>\n",
       "      <th>3</th>\n",
       "      <td>23-02-2022</td>\n",
       "      <td>Indigo</td>\n",
       "      <td>6E</td>\n",
       "      <td>438</td>\n",
       "      <td>18:50</td>\n",
       "      <td>Hyderabad</td>\n",
       "      <td>01h 15m</td>\n",
       "      <td>non-stop</td>\n",
       "      <td>20:05</td>\n",
       "      <td>Chennai</td>\n",
       "      <td>4,453</td>\n",
       "      <td>0.0</td>\n",
       "    </tr>\n",
       "    <tr>\n",
       "      <th>4</th>\n",
       "      <td>26-02-2022</td>\n",
       "      <td>Vistara</td>\n",
       "      <td>UK</td>\n",
       "      <td>816</td>\n",
       "      <td>11:30</td>\n",
       "      <td>Bangalore</td>\n",
       "      <td>08h 35m</td>\n",
       "      <td>1-stop\\n\\t\\t\\t\\t\\t\\t\\t\\t\\t\\t\\t\\t\\n\\t\\t\\t\\t\\t\\t...</td>\n",
       "      <td>20:05</td>\n",
       "      <td>Mumbai</td>\n",
       "      <td>7,212</td>\n",
       "      <td>0.0</td>\n",
       "    </tr>\n",
       "    <tr>\n",
       "      <th>...</th>\n",
       "      <td>...</td>\n",
       "      <td>...</td>\n",
       "      <td>...</td>\n",
       "      <td>...</td>\n",
       "      <td>...</td>\n",
       "      <td>...</td>\n",
       "      <td>...</td>\n",
       "      <td>...</td>\n",
       "      <td>...</td>\n",
       "      <td>...</td>\n",
       "      <td>...</td>\n",
       "      <td>...</td>\n",
       "    </tr>\n",
       "    <tr>\n",
       "      <th>74784</th>\n",
       "      <td>24-02-2022</td>\n",
       "      <td>Vistara</td>\n",
       "      <td>UK</td>\n",
       "      <td>951</td>\n",
       "      <td>14:20</td>\n",
       "      <td>Delhi</td>\n",
       "      <td>08h 30m</td>\n",
       "      <td>1-stop\\n\\t\\t\\t\\t\\t\\t\\t\\t\\t\\t\\t\\t\\n\\t\\t\\t\\t\\t\\t...</td>\n",
       "      <td>22:50</td>\n",
       "      <td>Bangalore</td>\n",
       "      <td>42,457</td>\n",
       "      <td>1.0</td>\n",
       "    </tr>\n",
       "    <tr>\n",
       "      <th>74785</th>\n",
       "      <td>16-02-2022</td>\n",
       "      <td>Vistara</td>\n",
       "      <td>UK</td>\n",
       "      <td>774</td>\n",
       "      <td>20:35</td>\n",
       "      <td>Kolkata</td>\n",
       "      <td>20h 20m</td>\n",
       "      <td>1-stop\\n\\t\\t\\t\\t\\t\\t\\t\\t\\t\\t\\t\\t\\n\\t\\t\\t\\t\\t\\t...</td>\n",
       "      <td>16:55</td>\n",
       "      <td>Delhi</td>\n",
       "      <td>81,519</td>\n",
       "      <td>1.0</td>\n",
       "    </tr>\n",
       "    <tr>\n",
       "      <th>74786</th>\n",
       "      <td>23-02-2022</td>\n",
       "      <td>Vistara</td>\n",
       "      <td>UK</td>\n",
       "      <td>876</td>\n",
       "      <td>21:35</td>\n",
       "      <td>Hyderabad</td>\n",
       "      <td>12h 05m</td>\n",
       "      <td>1-stop\\n\\t\\t\\t\\t\\t\\t\\t\\t\\t\\t\\t\\t\\n\\t\\t\\t\\t\\t\\t...</td>\n",
       "      <td>09:40</td>\n",
       "      <td>Kolkata</td>\n",
       "      <td>48,851</td>\n",
       "      <td>1.0</td>\n",
       "    </tr>\n",
       "    <tr>\n",
       "      <th>74787</th>\n",
       "      <td>20-02-2022</td>\n",
       "      <td>Air India</td>\n",
       "      <td>AI</td>\n",
       "      <td>865</td>\n",
       "      <td>10:40</td>\n",
       "      <td>Delhi</td>\n",
       "      <td>02h 10m</td>\n",
       "      <td>non-stop</td>\n",
       "      <td>12:50</td>\n",
       "      <td>Mumbai</td>\n",
       "      <td>22,152</td>\n",
       "      <td>1.0</td>\n",
       "    </tr>\n",
       "    <tr>\n",
       "      <th>74788</th>\n",
       "      <td>21-02-2022</td>\n",
       "      <td>Vistara</td>\n",
       "      <td>UK</td>\n",
       "      <td>945</td>\n",
       "      <td>11:40</td>\n",
       "      <td>Delhi</td>\n",
       "      <td>11h 25m</td>\n",
       "      <td>1-stop\\n\\t\\t\\t\\t\\t\\t\\t\\t\\t\\t\\t\\t\\n\\t\\t\\t\\t\\t\\t...</td>\n",
       "      <td>23:05</td>\n",
       "      <td>Chennai</td>\n",
       "      <td>52,392</td>\n",
       "      <td>1.0</td>\n",
       "    </tr>\n",
       "  </tbody>\n",
       "</table>\n",
       "<p>240208 rows × 12 columns</p>\n",
       "</div>"
      ],
      "text/plain": [
       "             date    airline ch_code  num_code dep_time       from time_taken  \\\n",
       "0      24-03-2022   GO FIRST      G8      7559    15:30  Bangalore    02h 30m   \n",
       "1      08-03-2022   GO FIRST      G8       395    08:10  Bangalore    08h 25m   \n",
       "2      22-02-2022  Air India      AI       868    18:00      Delhi    16h 55m   \n",
       "3      23-02-2022     Indigo      6E       438    18:50  Hyderabad    01h 15m   \n",
       "4      26-02-2022    Vistara      UK       816    11:30  Bangalore    08h 35m   \n",
       "...           ...        ...     ...       ...      ...        ...        ...   \n",
       "74784  24-02-2022    Vistara      UK       951    14:20      Delhi    08h 30m   \n",
       "74785  16-02-2022    Vistara      UK       774    20:35    Kolkata    20h 20m   \n",
       "74786  23-02-2022    Vistara      UK       876    21:35  Hyderabad    12h 05m   \n",
       "74787  20-02-2022  Air India      AI       865    10:40      Delhi    02h 10m   \n",
       "74788  21-02-2022    Vistara      UK       945    11:40      Delhi    11h 25m   \n",
       "\n",
       "                                                    stop arr_time         to  \\\n",
       "0                                              non-stop     18:00    Kolkata   \n",
       "1      1-stop\\n\\t\\t\\t\\t\\t\\t\\t\\t\\t\\t\\t\\t\\n\\t\\t\\t\\t\\t\\t...    16:35      Delhi   \n",
       "2      1-stop\\n\\t\\t\\t\\t\\t\\t\\t\\t\\t\\t\\t\\t\\n\\t\\t\\t\\t\\t\\t...    10:55    Chennai   \n",
       "3                                              non-stop     20:05    Chennai   \n",
       "4      1-stop\\n\\t\\t\\t\\t\\t\\t\\t\\t\\t\\t\\t\\t\\n\\t\\t\\t\\t\\t\\t...    20:05     Mumbai   \n",
       "...                                                  ...      ...        ...   \n",
       "74784  1-stop\\n\\t\\t\\t\\t\\t\\t\\t\\t\\t\\t\\t\\t\\n\\t\\t\\t\\t\\t\\t...    22:50  Bangalore   \n",
       "74785  1-stop\\n\\t\\t\\t\\t\\t\\t\\t\\t\\t\\t\\t\\t\\n\\t\\t\\t\\t\\t\\t...    16:55      Delhi   \n",
       "74786  1-stop\\n\\t\\t\\t\\t\\t\\t\\t\\t\\t\\t\\t\\t\\n\\t\\t\\t\\t\\t\\t...    09:40    Kolkata   \n",
       "74787                                          non-stop     12:50     Mumbai   \n",
       "74788  1-stop\\n\\t\\t\\t\\t\\t\\t\\t\\t\\t\\t\\t\\t\\n\\t\\t\\t\\t\\t\\t...    23:05    Chennai   \n",
       "\n",
       "        price  class  \n",
       "0       3,845    0.0  \n",
       "1       4,028    0.0  \n",
       "2      11,520    0.0  \n",
       "3       4,453    0.0  \n",
       "4       7,212    0.0  \n",
       "...       ...    ...  \n",
       "74784  42,457    1.0  \n",
       "74785  81,519    1.0  \n",
       "74786  48,851    1.0  \n",
       "74787  22,152    1.0  \n",
       "74788  52,392    1.0  \n",
       "\n",
       "[240208 rows x 12 columns]"
      ]
     },
     "execution_count": 4,
     "metadata": {},
     "output_type": "execute_result"
    }
   ],
   "source": [
    "data"
   ]
  },
  {
   "cell_type": "code",
   "execution_count": 5,
   "id": "c0502506-b875-4f93-bde7-a5a49c612e14",
   "metadata": {},
   "outputs": [
    {
     "data": {
      "text/plain": [
       "array(['Bangalore', 'Delhi', 'Hyderabad', 'Kolkata', 'Chennai', 'Mumbai'],\n",
       "      dtype=object)"
      ]
     },
     "execution_count": 5,
     "metadata": {},
     "output_type": "execute_result"
    }
   ],
   "source": [
    "data[\"from\"].unique()"
   ]
  },
  {
   "cell_type": "code",
   "execution_count": 6,
   "id": "04ef2304-8a27-41bc-80ec-cd8f55def7c8",
   "metadata": {},
   "outputs": [],
   "source": [
    "del data[\"date\"]\n",
    "del data[\"num_code\"]\n",
    "del data[\"ch_code\"]"
   ]
  },
  {
   "cell_type": "code",
   "execution_count": 7,
   "id": "a8964382-01eb-40a8-acc6-2dcf97df955e",
   "metadata": {},
   "outputs": [
    {
     "data": {
      "text/plain": [
       "airline\n",
       "Vistara      102201\n",
       "Air India     64752\n",
       "Indigo        34513\n",
       "GO FIRST      18593\n",
       "AirAsia       12859\n",
       "SpiceJet       7206\n",
       "StarAir          50\n",
       "Trujet           34\n",
       "Name: count, dtype: int64"
      ]
     },
     "execution_count": 7,
     "metadata": {},
     "output_type": "execute_result"
    }
   ],
   "source": [
    "data[\"airline\"].value_counts()"
   ]
  },
  {
   "cell_type": "code",
   "execution_count": 8,
   "id": "92a5c6ef-d6cd-48f2-a87f-6a67b6978016",
   "metadata": {},
   "outputs": [
    {
     "data": {
      "text/plain": [
       "airline\n",
       "Vistara      102201\n",
       "Air India     64752\n",
       "Indigo        34513\n",
       "GO FIRST      18593\n",
       "Name: count, dtype: int64"
      ]
     },
     "execution_count": 8,
     "metadata": {},
     "output_type": "execute_result"
    }
   ],
   "source": [
    "data = data.set_index('airline')\n",
    "data = data.drop(['StarAir', 'Trujet', 'SpiceJet', 'AirAsia'], axis=0)\n",
    "data = data.reset_index()\n",
    "data[\"airline\"].value_counts()"
   ]
  },
  {
   "cell_type": "code",
   "execution_count": 9,
   "id": "db00bfa0-4175-4692-b6b7-f950f2df1296",
   "metadata": {},
   "outputs": [],
   "source": [
    "data = data.dropna()\n",
    "data = data.drop_duplicates()"
   ]
  },
  {
   "cell_type": "code",
   "execution_count": 10,
   "id": "d498f8ad-fb2b-41a9-ac82-4beb526647b8",
   "metadata": {},
   "outputs": [
    {
     "data": {
      "text/html": [
       "<div>\n",
       "<style scoped>\n",
       "    .dataframe tbody tr th:only-of-type {\n",
       "        vertical-align: middle;\n",
       "    }\n",
       "\n",
       "    .dataframe tbody tr th {\n",
       "        vertical-align: top;\n",
       "    }\n",
       "\n",
       "    .dataframe thead th {\n",
       "        text-align: right;\n",
       "    }\n",
       "</style>\n",
       "<table border=\"1\" class=\"dataframe\">\n",
       "  <thead>\n",
       "    <tr style=\"text-align: right;\">\n",
       "      <th></th>\n",
       "      <th>airline</th>\n",
       "      <th>dep_time</th>\n",
       "      <th>from</th>\n",
       "      <th>time_taken</th>\n",
       "      <th>stop</th>\n",
       "      <th>arr_time</th>\n",
       "      <th>to</th>\n",
       "      <th>price</th>\n",
       "      <th>class</th>\n",
       "    </tr>\n",
       "  </thead>\n",
       "  <tbody>\n",
       "    <tr>\n",
       "      <th>0</th>\n",
       "      <td>GO FIRST</td>\n",
       "      <td>15:30</td>\n",
       "      <td>Bangalore</td>\n",
       "      <td>02h 30m</td>\n",
       "      <td>non-stop</td>\n",
       "      <td>18:00</td>\n",
       "      <td>Kolkata</td>\n",
       "      <td>3,845</td>\n",
       "      <td>0.0</td>\n",
       "    </tr>\n",
       "    <tr>\n",
       "      <th>1</th>\n",
       "      <td>GO FIRST</td>\n",
       "      <td>08:10</td>\n",
       "      <td>Bangalore</td>\n",
       "      <td>08h 25m</td>\n",
       "      <td>1-stop\\n\\t\\t\\t\\t\\t\\t\\t\\t\\t\\t\\t\\t\\n\\t\\t\\t\\t\\t\\t...</td>\n",
       "      <td>16:35</td>\n",
       "      <td>Delhi</td>\n",
       "      <td>4,028</td>\n",
       "      <td>0.0</td>\n",
       "    </tr>\n",
       "    <tr>\n",
       "      <th>2</th>\n",
       "      <td>Air India</td>\n",
       "      <td>18:00</td>\n",
       "      <td>Delhi</td>\n",
       "      <td>16h 55m</td>\n",
       "      <td>1-stop\\n\\t\\t\\t\\t\\t\\t\\t\\t\\t\\t\\t\\t\\n\\t\\t\\t\\t\\t\\t...</td>\n",
       "      <td>10:55</td>\n",
       "      <td>Chennai</td>\n",
       "      <td>11,520</td>\n",
       "      <td>0.0</td>\n",
       "    </tr>\n",
       "    <tr>\n",
       "      <th>3</th>\n",
       "      <td>Indigo</td>\n",
       "      <td>18:50</td>\n",
       "      <td>Hyderabad</td>\n",
       "      <td>01h 15m</td>\n",
       "      <td>non-stop</td>\n",
       "      <td>20:05</td>\n",
       "      <td>Chennai</td>\n",
       "      <td>4,453</td>\n",
       "      <td>0.0</td>\n",
       "    </tr>\n",
       "    <tr>\n",
       "      <th>4</th>\n",
       "      <td>Vistara</td>\n",
       "      <td>11:30</td>\n",
       "      <td>Bangalore</td>\n",
       "      <td>08h 35m</td>\n",
       "      <td>1-stop\\n\\t\\t\\t\\t\\t\\t\\t\\t\\t\\t\\t\\t\\n\\t\\t\\t\\t\\t\\t...</td>\n",
       "      <td>20:05</td>\n",
       "      <td>Mumbai</td>\n",
       "      <td>7,212</td>\n",
       "      <td>0.0</td>\n",
       "    </tr>\n",
       "    <tr>\n",
       "      <th>...</th>\n",
       "      <td>...</td>\n",
       "      <td>...</td>\n",
       "      <td>...</td>\n",
       "      <td>...</td>\n",
       "      <td>...</td>\n",
       "      <td>...</td>\n",
       "      <td>...</td>\n",
       "      <td>...</td>\n",
       "      <td>...</td>\n",
       "    </tr>\n",
       "    <tr>\n",
       "      <th>220030</th>\n",
       "      <td>Vistara</td>\n",
       "      <td>11:30</td>\n",
       "      <td>Mumbai</td>\n",
       "      <td>05h 15m</td>\n",
       "      <td>1-stop\\n\\t\\t\\t\\t\\t\\t\\t\\t\\t\\t\\t\\t\\n\\t\\t\\t\\t\\t\\t...</td>\n",
       "      <td>16:45</td>\n",
       "      <td>Delhi</td>\n",
       "      <td>37,670</td>\n",
       "      <td>1.0</td>\n",
       "    </tr>\n",
       "    <tr>\n",
       "      <th>220039</th>\n",
       "      <td>Air India</td>\n",
       "      <td>18:00</td>\n",
       "      <td>Delhi</td>\n",
       "      <td>17h 10m</td>\n",
       "      <td>1-stop\\n\\t\\t\\t\\t\\t\\t\\t\\t\\t\\t\\t\\t\\n\\t\\t\\t\\t\\t\\t...</td>\n",
       "      <td>11:10</td>\n",
       "      <td>Bangalore</td>\n",
       "      <td>47,714</td>\n",
       "      <td>1.0</td>\n",
       "    </tr>\n",
       "    <tr>\n",
       "      <th>220048</th>\n",
       "      <td>Air India</td>\n",
       "      <td>12:10</td>\n",
       "      <td>Delhi</td>\n",
       "      <td>22h 50m</td>\n",
       "      <td>2+-stop</td>\n",
       "      <td>11:00</td>\n",
       "      <td>Chennai</td>\n",
       "      <td>67,421</td>\n",
       "      <td>1.0</td>\n",
       "    </tr>\n",
       "    <tr>\n",
       "      <th>220049</th>\n",
       "      <td>Vistara</td>\n",
       "      <td>15:20</td>\n",
       "      <td>Kolkata</td>\n",
       "      <td>07h 30m</td>\n",
       "      <td>1-stop\\n\\t\\t\\t\\t\\t\\t\\t\\t\\t\\t\\t\\t\\n\\t\\t\\t\\t\\t\\t...</td>\n",
       "      <td>22:50</td>\n",
       "      <td>Mumbai</td>\n",
       "      <td>70,431</td>\n",
       "      <td>1.0</td>\n",
       "    </tr>\n",
       "    <tr>\n",
       "      <th>220055</th>\n",
       "      <td>Vistara</td>\n",
       "      <td>20:35</td>\n",
       "      <td>Kolkata</td>\n",
       "      <td>20h 20m</td>\n",
       "      <td>1-stop\\n\\t\\t\\t\\t\\t\\t\\t\\t\\t\\t\\t\\t\\n\\t\\t\\t\\t\\t\\t...</td>\n",
       "      <td>16:55</td>\n",
       "      <td>Delhi</td>\n",
       "      <td>81,519</td>\n",
       "      <td>1.0</td>\n",
       "    </tr>\n",
       "  </tbody>\n",
       "</table>\n",
       "<p>56830 rows × 9 columns</p>\n",
       "</div>"
      ],
      "text/plain": [
       "          airline dep_time       from time_taken  \\\n",
       "0        GO FIRST    15:30  Bangalore    02h 30m   \n",
       "1        GO FIRST    08:10  Bangalore    08h 25m   \n",
       "2       Air India    18:00      Delhi    16h 55m   \n",
       "3          Indigo    18:50  Hyderabad    01h 15m   \n",
       "4         Vistara    11:30  Bangalore    08h 35m   \n",
       "...           ...      ...        ...        ...   \n",
       "220030    Vistara    11:30     Mumbai    05h 15m   \n",
       "220039  Air India    18:00      Delhi    17h 10m   \n",
       "220048  Air India    12:10      Delhi    22h 50m   \n",
       "220049    Vistara    15:20    Kolkata    07h 30m   \n",
       "220055    Vistara    20:35    Kolkata    20h 20m   \n",
       "\n",
       "                                                     stop arr_time         to  \\\n",
       "0                                               non-stop     18:00    Kolkata   \n",
       "1       1-stop\\n\\t\\t\\t\\t\\t\\t\\t\\t\\t\\t\\t\\t\\n\\t\\t\\t\\t\\t\\t...    16:35      Delhi   \n",
       "2       1-stop\\n\\t\\t\\t\\t\\t\\t\\t\\t\\t\\t\\t\\t\\n\\t\\t\\t\\t\\t\\t...    10:55    Chennai   \n",
       "3                                               non-stop     20:05    Chennai   \n",
       "4       1-stop\\n\\t\\t\\t\\t\\t\\t\\t\\t\\t\\t\\t\\t\\n\\t\\t\\t\\t\\t\\t...    20:05     Mumbai   \n",
       "...                                                   ...      ...        ...   \n",
       "220030  1-stop\\n\\t\\t\\t\\t\\t\\t\\t\\t\\t\\t\\t\\t\\n\\t\\t\\t\\t\\t\\t...    16:45      Delhi   \n",
       "220039  1-stop\\n\\t\\t\\t\\t\\t\\t\\t\\t\\t\\t\\t\\t\\n\\t\\t\\t\\t\\t\\t...    11:10  Bangalore   \n",
       "220048                                            2+-stop    11:00    Chennai   \n",
       "220049  1-stop\\n\\t\\t\\t\\t\\t\\t\\t\\t\\t\\t\\t\\t\\n\\t\\t\\t\\t\\t\\t...    22:50     Mumbai   \n",
       "220055  1-stop\\n\\t\\t\\t\\t\\t\\t\\t\\t\\t\\t\\t\\t\\n\\t\\t\\t\\t\\t\\t...    16:55      Delhi   \n",
       "\n",
       "         price  class  \n",
       "0        3,845    0.0  \n",
       "1        4,028    0.0  \n",
       "2       11,520    0.0  \n",
       "3        4,453    0.0  \n",
       "4        7,212    0.0  \n",
       "...        ...    ...  \n",
       "220030  37,670    1.0  \n",
       "220039  47,714    1.0  \n",
       "220048  67,421    1.0  \n",
       "220049  70,431    1.0  \n",
       "220055  81,519    1.0  \n",
       "\n",
       "[56830 rows x 9 columns]"
      ]
     },
     "execution_count": 10,
     "metadata": {},
     "output_type": "execute_result"
    }
   ],
   "source": [
    "data"
   ]
  },
  {
   "cell_type": "code",
   "execution_count": 11,
   "id": "b2da7ff1-5621-416f-9e59-564b41b6e669",
   "metadata": {},
   "outputs": [
    {
     "data": {
      "text/html": [
       "<div>\n",
       "<style scoped>\n",
       "    .dataframe tbody tr th:only-of-type {\n",
       "        vertical-align: middle;\n",
       "    }\n",
       "\n",
       "    .dataframe tbody tr th {\n",
       "        vertical-align: top;\n",
       "    }\n",
       "\n",
       "    .dataframe thead th {\n",
       "        text-align: right;\n",
       "    }\n",
       "</style>\n",
       "<table border=\"1\" class=\"dataframe\">\n",
       "  <thead>\n",
       "    <tr style=\"text-align: right;\">\n",
       "      <th></th>\n",
       "      <th>airline</th>\n",
       "      <th>dep_time</th>\n",
       "      <th>from</th>\n",
       "      <th>time_taken</th>\n",
       "      <th>stop</th>\n",
       "      <th>arr_time</th>\n",
       "      <th>to</th>\n",
       "      <th>price</th>\n",
       "      <th>class</th>\n",
       "    </tr>\n",
       "  </thead>\n",
       "  <tbody>\n",
       "    <tr>\n",
       "      <th>0</th>\n",
       "      <td>GO FIRST</td>\n",
       "      <td>15:30</td>\n",
       "      <td>Bangalore</td>\n",
       "      <td>02h 30m</td>\n",
       "      <td>non-stop</td>\n",
       "      <td>18:00</td>\n",
       "      <td>Kolkata</td>\n",
       "      <td>3,845</td>\n",
       "      <td>0.0</td>\n",
       "    </tr>\n",
       "    <tr>\n",
       "      <th>1</th>\n",
       "      <td>GO FIRST</td>\n",
       "      <td>08:10</td>\n",
       "      <td>Bangalore</td>\n",
       "      <td>08h 25m</td>\n",
       "      <td>1-stop</td>\n",
       "      <td>16:35</td>\n",
       "      <td>Delhi</td>\n",
       "      <td>4,028</td>\n",
       "      <td>0.0</td>\n",
       "    </tr>\n",
       "    <tr>\n",
       "      <th>2</th>\n",
       "      <td>Air India</td>\n",
       "      <td>18:00</td>\n",
       "      <td>Delhi</td>\n",
       "      <td>16h 55m</td>\n",
       "      <td>1-stop</td>\n",
       "      <td>10:55</td>\n",
       "      <td>Chennai</td>\n",
       "      <td>11,520</td>\n",
       "      <td>0.0</td>\n",
       "    </tr>\n",
       "    <tr>\n",
       "      <th>3</th>\n",
       "      <td>Indigo</td>\n",
       "      <td>18:50</td>\n",
       "      <td>Hyderabad</td>\n",
       "      <td>01h 15m</td>\n",
       "      <td>non-stop</td>\n",
       "      <td>20:05</td>\n",
       "      <td>Chennai</td>\n",
       "      <td>4,453</td>\n",
       "      <td>0.0</td>\n",
       "    </tr>\n",
       "    <tr>\n",
       "      <th>4</th>\n",
       "      <td>Vistara</td>\n",
       "      <td>11:30</td>\n",
       "      <td>Bangalore</td>\n",
       "      <td>08h 35m</td>\n",
       "      <td>1-stop</td>\n",
       "      <td>20:05</td>\n",
       "      <td>Mumbai</td>\n",
       "      <td>7,212</td>\n",
       "      <td>0.0</td>\n",
       "    </tr>\n",
       "    <tr>\n",
       "      <th>...</th>\n",
       "      <td>...</td>\n",
       "      <td>...</td>\n",
       "      <td>...</td>\n",
       "      <td>...</td>\n",
       "      <td>...</td>\n",
       "      <td>...</td>\n",
       "      <td>...</td>\n",
       "      <td>...</td>\n",
       "      <td>...</td>\n",
       "    </tr>\n",
       "    <tr>\n",
       "      <th>220030</th>\n",
       "      <td>Vistara</td>\n",
       "      <td>11:30</td>\n",
       "      <td>Mumbai</td>\n",
       "      <td>05h 15m</td>\n",
       "      <td>1-stop</td>\n",
       "      <td>16:45</td>\n",
       "      <td>Delhi</td>\n",
       "      <td>37,670</td>\n",
       "      <td>1.0</td>\n",
       "    </tr>\n",
       "    <tr>\n",
       "      <th>220039</th>\n",
       "      <td>Air India</td>\n",
       "      <td>18:00</td>\n",
       "      <td>Delhi</td>\n",
       "      <td>17h 10m</td>\n",
       "      <td>1-stop</td>\n",
       "      <td>11:10</td>\n",
       "      <td>Bangalore</td>\n",
       "      <td>47,714</td>\n",
       "      <td>1.0</td>\n",
       "    </tr>\n",
       "    <tr>\n",
       "      <th>220048</th>\n",
       "      <td>Air India</td>\n",
       "      <td>12:10</td>\n",
       "      <td>Delhi</td>\n",
       "      <td>22h 50m</td>\n",
       "      <td>2+-stop</td>\n",
       "      <td>11:00</td>\n",
       "      <td>Chennai</td>\n",
       "      <td>67,421</td>\n",
       "      <td>1.0</td>\n",
       "    </tr>\n",
       "    <tr>\n",
       "      <th>220049</th>\n",
       "      <td>Vistara</td>\n",
       "      <td>15:20</td>\n",
       "      <td>Kolkata</td>\n",
       "      <td>07h 30m</td>\n",
       "      <td>1-stop</td>\n",
       "      <td>22:50</td>\n",
       "      <td>Mumbai</td>\n",
       "      <td>70,431</td>\n",
       "      <td>1.0</td>\n",
       "    </tr>\n",
       "    <tr>\n",
       "      <th>220055</th>\n",
       "      <td>Vistara</td>\n",
       "      <td>20:35</td>\n",
       "      <td>Kolkata</td>\n",
       "      <td>20h 20m</td>\n",
       "      <td>1-stop</td>\n",
       "      <td>16:55</td>\n",
       "      <td>Delhi</td>\n",
       "      <td>81,519</td>\n",
       "      <td>1.0</td>\n",
       "    </tr>\n",
       "  </tbody>\n",
       "</table>\n",
       "<p>56830 rows × 9 columns</p>\n",
       "</div>"
      ],
      "text/plain": [
       "          airline dep_time       from time_taken      stop arr_time  \\\n",
       "0        GO FIRST    15:30  Bangalore    02h 30m  non-stop    18:00   \n",
       "1        GO FIRST    08:10  Bangalore    08h 25m    1-stop    16:35   \n",
       "2       Air India    18:00      Delhi    16h 55m    1-stop    10:55   \n",
       "3          Indigo    18:50  Hyderabad    01h 15m  non-stop    20:05   \n",
       "4         Vistara    11:30  Bangalore    08h 35m    1-stop    20:05   \n",
       "...           ...      ...        ...        ...       ...      ...   \n",
       "220030    Vistara    11:30     Mumbai    05h 15m    1-stop    16:45   \n",
       "220039  Air India    18:00      Delhi    17h 10m    1-stop    11:10   \n",
       "220048  Air India    12:10      Delhi    22h 50m   2+-stop    11:00   \n",
       "220049    Vistara    15:20    Kolkata    07h 30m    1-stop    22:50   \n",
       "220055    Vistara    20:35    Kolkata    20h 20m    1-stop    16:55   \n",
       "\n",
       "               to   price  class  \n",
       "0         Kolkata   3,845    0.0  \n",
       "1           Delhi   4,028    0.0  \n",
       "2         Chennai  11,520    0.0  \n",
       "3         Chennai   4,453    0.0  \n",
       "4          Mumbai   7,212    0.0  \n",
       "...           ...     ...    ...  \n",
       "220030      Delhi  37,670    1.0  \n",
       "220039  Bangalore  47,714    1.0  \n",
       "220048    Chennai  67,421    1.0  \n",
       "220049     Mumbai  70,431    1.0  \n",
       "220055      Delhi  81,519    1.0  \n",
       "\n",
       "[56830 rows x 9 columns]"
      ]
     },
     "execution_count": 11,
     "metadata": {},
     "output_type": "execute_result"
    }
   ],
   "source": [
    "stops = [stop[:10].replace(\"\\t\", \"\").replace(\"\\n\", \"\").replace(\" \", \"\") for stop in data[\"stop\"]]\n",
    "data[\"stop\"] = stops\n",
    "data"
   ]
  },
  {
   "cell_type": "code",
   "execution_count": 12,
   "id": "194096e7-b9ca-43ce-8441-ee49d640b34f",
   "metadata": {},
   "outputs": [
    {
     "data": {
      "text/plain": [
       "array(['GO FIRST', 'Air India', 'Indigo', 'Vistara'], dtype=object)"
      ]
     },
     "execution_count": 12,
     "metadata": {},
     "output_type": "execute_result"
    }
   ],
   "source": [
    "data[\"airline\"].unique()"
   ]
  },
  {
   "cell_type": "code",
   "execution_count": 13,
   "id": "a0a8f93c-6195-4ee1-a8c1-75a2d191c007",
   "metadata": {},
   "outputs": [
    {
     "data": {
      "text/plain": [
       "array(['GO FIRST', 'Air India', 'Indigo', 'Vistara'], dtype=object)"
      ]
     },
     "execution_count": 13,
     "metadata": {},
     "output_type": "execute_result"
    }
   ],
   "source": [
    "data[\"airline\"].unique()"
   ]
  },
  {
   "cell_type": "code",
   "execution_count": 14,
   "id": "6b1f4185-7953-4fd8-90c3-cbcd400efb0f",
   "metadata": {},
   "outputs": [],
   "source": [
    "def norm(value):\n",
    "    max_value = max(value)\n",
    "    min_value = min(value)\n",
    "    result = [(i-min_value)/(max_value-min_value) for i in value]\n",
    "    return result"
   ]
  },
  {
   "cell_type": "code",
   "execution_count": 15,
   "id": "7dbbfd6b-d316-40f4-8f77-3da9f9699c32",
   "metadata": {},
   "outputs": [],
   "source": [
    "airline_value = list(data[\"airline\"].unique())\n",
    "airline_array = [airline_value.index(airline) for airline in data[\"airline\"]]\n",
    "airline_array = norm(airline_array)\n",
    "data[\"airline\"] = airline_array"
   ]
  },
  {
   "cell_type": "code",
   "execution_count": 16,
   "id": "08915574-a2c1-4954-bc30-4a82ef3ae7d6",
   "metadata": {},
   "outputs": [
    {
     "data": {
      "text/plain": [
       "array(['Bangalore', 'Delhi', 'Hyderabad', 'Kolkata', 'Chennai', 'Mumbai'],\n",
       "      dtype=object)"
      ]
     },
     "execution_count": 16,
     "metadata": {},
     "output_type": "execute_result"
    }
   ],
   "source": [
    "data[\"from\"].unique()"
   ]
  },
  {
   "cell_type": "code",
   "execution_count": 17,
   "id": "ea54a229-5f72-435c-b8b7-3ac4394a7b74",
   "metadata": {},
   "outputs": [],
   "source": [
    "cities = list(data[\"from\"].unique())\n",
    "from_array = [cities.index(fr) for fr in data[\"from\"]]\n",
    "to_array = [cities.index(to) for to in data[\"to\"]]\n",
    "data[\"from\"] = norm(from_array)\n",
    "data[\"to\"] = norm(to_array)"
   ]
  },
  {
   "cell_type": "code",
   "execution_count": 18,
   "id": "a3cf0ee3-c108-47ed-a30a-3337dbbb0bc5",
   "metadata": {},
   "outputs": [],
   "source": [
    "def time_to_inteval(value):\n",
    "    interval_value = 6\n",
    "    minutes = int(value.split(\":\")[0])\n",
    "    interval = math.floor(minutes / interval_value)\n",
    "    return interval"
   ]
  },
  {
   "cell_type": "code",
   "execution_count": 19,
   "id": "ab6db38c-4e71-4ccc-8a01-6d0f86b31364",
   "metadata": {},
   "outputs": [],
   "source": [
    "dep_time_array = [time_to_inteval(time) for time in data[\"dep_time\"]]\n",
    "arr_time_array = [time_to_inteval(time) for time in data[\"arr_time\"]]\n",
    "data[\"dep_time\"] = norm(dep_time_array)\n",
    "data[\"arr_time\"] = norm(arr_time_array)"
   ]
  },
  {
   "cell_type": "code",
   "execution_count": 20,
   "id": "749bf398-f056-47aa-b81f-c6d54d7784f4",
   "metadata": {},
   "outputs": [
    {
     "data": {
      "text/plain": [
       "3"
      ]
     },
     "execution_count": 20,
     "metadata": {},
     "output_type": "execute_result"
    }
   ],
   "source": [
    "max(arr_time_array)"
   ]
  },
  {
   "cell_type": "code",
   "execution_count": 21,
   "id": "5f7586ce-0164-44c0-b71c-ea15382da2cf",
   "metadata": {},
   "outputs": [],
   "source": [
    "def minutes(value):\n",
    "    hours_match = re.search(r'(\\d+)h', value)\n",
    "    minutes_match = re.search(r'(\\d+)m', value)\n",
    "    hours = int(hours_match.group(1)) if hours_match else 0\n",
    "    minutes = int(minutes_match.group(1)) if minutes_match else 0\n",
    "    return math.floor((hours + minutes/60)/6)"
   ]
  },
  {
   "cell_type": "code",
   "execution_count": 22,
   "id": "c88586c3-cd9f-4a06-a4ef-6580c248cecc",
   "metadata": {},
   "outputs": [],
   "source": [
    "time_taken_array =  [minutes(time) for time in data[\"time_taken\"]]\n",
    "data[\"time_taken\"] = norm(time_taken_array)"
   ]
  },
  {
   "cell_type": "code",
   "execution_count": 23,
   "id": "f589a652-9ed9-4b9f-b668-5e58421dc467",
   "metadata": {},
   "outputs": [
    {
     "data": {
      "text/plain": [
       "8"
      ]
     },
     "execution_count": 23,
     "metadata": {},
     "output_type": "execute_result"
    }
   ],
   "source": [
    "max(time_taken_array)"
   ]
  },
  {
   "cell_type": "code",
   "execution_count": 24,
   "id": "df69a150-e087-4c6d-9dd7-7d29cb38829b",
   "metadata": {},
   "outputs": [
    {
     "data": {
      "text/plain": [
       "time_taken\n",
       "0.125    20182\n",
       "0.250    12928\n",
       "0.000     9444\n",
       "0.375     6746\n",
       "0.500     6418\n",
       "0.625      960\n",
       "0.750      143\n",
       "0.875        7\n",
       "1.000        2\n",
       "Name: count, dtype: int64"
      ]
     },
     "execution_count": 24,
     "metadata": {},
     "output_type": "execute_result"
    }
   ],
   "source": [
    "data[\"time_taken\"].value_counts()"
   ]
  },
  {
   "cell_type": "code",
   "execution_count": 25,
   "id": "dda03793-2122-42fe-af6e-7479f46ae0a1",
   "metadata": {},
   "outputs": [
    {
     "data": {
      "text/plain": [
       "time_taken\n",
       "0.125    20182\n",
       "0.250    12928\n",
       "0.000     9444\n",
       "0.375     6746\n",
       "0.500     6418\n",
       "Name: count, dtype: int64"
      ]
     },
     "execution_count": 25,
     "metadata": {},
     "output_type": "execute_result"
    }
   ],
   "source": [
    "data = data.set_index('time_taken')\n",
    "data = data.drop([0.625, 0.750, 0.875, 1.000], axis=0)\n",
    "data = data.reset_index()\n",
    "data[\"time_taken\"].value_counts()"
   ]
  },
  {
   "cell_type": "code",
   "execution_count": 26,
   "id": "b9ef692f-914d-4296-a713-97ee54fb8b9a",
   "metadata": {},
   "outputs": [
    {
     "data": {
      "text/html": [
       "<div>\n",
       "<style scoped>\n",
       "    .dataframe tbody tr th:only-of-type {\n",
       "        vertical-align: middle;\n",
       "    }\n",
       "\n",
       "    .dataframe tbody tr th {\n",
       "        vertical-align: top;\n",
       "    }\n",
       "\n",
       "    .dataframe thead th {\n",
       "        text-align: right;\n",
       "    }\n",
       "</style>\n",
       "<table border=\"1\" class=\"dataframe\">\n",
       "  <thead>\n",
       "    <tr style=\"text-align: right;\">\n",
       "      <th></th>\n",
       "      <th>time_taken</th>\n",
       "      <th>airline</th>\n",
       "      <th>dep_time</th>\n",
       "      <th>from</th>\n",
       "      <th>stop</th>\n",
       "      <th>arr_time</th>\n",
       "      <th>to</th>\n",
       "      <th>price</th>\n",
       "      <th>class</th>\n",
       "    </tr>\n",
       "  </thead>\n",
       "  <tbody>\n",
       "    <tr>\n",
       "      <th>0</th>\n",
       "      <td>0.000</td>\n",
       "      <td>0.000000</td>\n",
       "      <td>0.666667</td>\n",
       "      <td>0.0</td>\n",
       "      <td>non-stop</td>\n",
       "      <td>1.000000</td>\n",
       "      <td>0.6</td>\n",
       "      <td>3,845</td>\n",
       "      <td>0.0</td>\n",
       "    </tr>\n",
       "    <tr>\n",
       "      <th>1</th>\n",
       "      <td>0.125</td>\n",
       "      <td>0.000000</td>\n",
       "      <td>0.333333</td>\n",
       "      <td>0.0</td>\n",
       "      <td>1-stop</td>\n",
       "      <td>0.666667</td>\n",
       "      <td>0.2</td>\n",
       "      <td>4,028</td>\n",
       "      <td>0.0</td>\n",
       "    </tr>\n",
       "    <tr>\n",
       "      <th>2</th>\n",
       "      <td>0.250</td>\n",
       "      <td>0.333333</td>\n",
       "      <td>1.000000</td>\n",
       "      <td>0.2</td>\n",
       "      <td>1-stop</td>\n",
       "      <td>0.333333</td>\n",
       "      <td>0.8</td>\n",
       "      <td>11,520</td>\n",
       "      <td>0.0</td>\n",
       "    </tr>\n",
       "    <tr>\n",
       "      <th>3</th>\n",
       "      <td>0.000</td>\n",
       "      <td>0.666667</td>\n",
       "      <td>1.000000</td>\n",
       "      <td>0.4</td>\n",
       "      <td>non-stop</td>\n",
       "      <td>1.000000</td>\n",
       "      <td>0.8</td>\n",
       "      <td>4,453</td>\n",
       "      <td>0.0</td>\n",
       "    </tr>\n",
       "    <tr>\n",
       "      <th>4</th>\n",
       "      <td>0.125</td>\n",
       "      <td>1.000000</td>\n",
       "      <td>0.333333</td>\n",
       "      <td>0.0</td>\n",
       "      <td>1-stop</td>\n",
       "      <td>1.000000</td>\n",
       "      <td>1.0</td>\n",
       "      <td>7,212</td>\n",
       "      <td>0.0</td>\n",
       "    </tr>\n",
       "    <tr>\n",
       "      <th>...</th>\n",
       "      <td>...</td>\n",
       "      <td>...</td>\n",
       "      <td>...</td>\n",
       "      <td>...</td>\n",
       "      <td>...</td>\n",
       "      <td>...</td>\n",
       "      <td>...</td>\n",
       "      <td>...</td>\n",
       "      <td>...</td>\n",
       "    </tr>\n",
       "    <tr>\n",
       "      <th>55713</th>\n",
       "      <td>0.000</td>\n",
       "      <td>1.000000</td>\n",
       "      <td>0.333333</td>\n",
       "      <td>1.0</td>\n",
       "      <td>1-stop</td>\n",
       "      <td>0.666667</td>\n",
       "      <td>0.2</td>\n",
       "      <td>37,670</td>\n",
       "      <td>1.0</td>\n",
       "    </tr>\n",
       "    <tr>\n",
       "      <th>55714</th>\n",
       "      <td>0.250</td>\n",
       "      <td>0.333333</td>\n",
       "      <td>1.000000</td>\n",
       "      <td>0.2</td>\n",
       "      <td>1-stop</td>\n",
       "      <td>0.333333</td>\n",
       "      <td>0.0</td>\n",
       "      <td>47,714</td>\n",
       "      <td>1.0</td>\n",
       "    </tr>\n",
       "    <tr>\n",
       "      <th>55715</th>\n",
       "      <td>0.375</td>\n",
       "      <td>0.333333</td>\n",
       "      <td>0.666667</td>\n",
       "      <td>0.2</td>\n",
       "      <td>2+-stop</td>\n",
       "      <td>0.333333</td>\n",
       "      <td>0.8</td>\n",
       "      <td>67,421</td>\n",
       "      <td>1.0</td>\n",
       "    </tr>\n",
       "    <tr>\n",
       "      <th>55716</th>\n",
       "      <td>0.125</td>\n",
       "      <td>1.000000</td>\n",
       "      <td>0.666667</td>\n",
       "      <td>0.6</td>\n",
       "      <td>1-stop</td>\n",
       "      <td>1.000000</td>\n",
       "      <td>1.0</td>\n",
       "      <td>70,431</td>\n",
       "      <td>1.0</td>\n",
       "    </tr>\n",
       "    <tr>\n",
       "      <th>55717</th>\n",
       "      <td>0.375</td>\n",
       "      <td>1.000000</td>\n",
       "      <td>1.000000</td>\n",
       "      <td>0.6</td>\n",
       "      <td>1-stop</td>\n",
       "      <td>0.666667</td>\n",
       "      <td>0.2</td>\n",
       "      <td>81,519</td>\n",
       "      <td>1.0</td>\n",
       "    </tr>\n",
       "  </tbody>\n",
       "</table>\n",
       "<p>55718 rows × 9 columns</p>\n",
       "</div>"
      ],
      "text/plain": [
       "       time_taken   airline  dep_time  from      stop  arr_time   to   price  \\\n",
       "0           0.000  0.000000  0.666667   0.0  non-stop  1.000000  0.6   3,845   \n",
       "1           0.125  0.000000  0.333333   0.0    1-stop  0.666667  0.2   4,028   \n",
       "2           0.250  0.333333  1.000000   0.2    1-stop  0.333333  0.8  11,520   \n",
       "3           0.000  0.666667  1.000000   0.4  non-stop  1.000000  0.8   4,453   \n",
       "4           0.125  1.000000  0.333333   0.0    1-stop  1.000000  1.0   7,212   \n",
       "...           ...       ...       ...   ...       ...       ...  ...     ...   \n",
       "55713       0.000  1.000000  0.333333   1.0    1-stop  0.666667  0.2  37,670   \n",
       "55714       0.250  0.333333  1.000000   0.2    1-stop  0.333333  0.0  47,714   \n",
       "55715       0.375  0.333333  0.666667   0.2   2+-stop  0.333333  0.8  67,421   \n",
       "55716       0.125  1.000000  0.666667   0.6    1-stop  1.000000  1.0  70,431   \n",
       "55717       0.375  1.000000  1.000000   0.6    1-stop  0.666667  0.2  81,519   \n",
       "\n",
       "       class  \n",
       "0        0.0  \n",
       "1        0.0  \n",
       "2        0.0  \n",
       "3        0.0  \n",
       "4        0.0  \n",
       "...      ...  \n",
       "55713    1.0  \n",
       "55714    1.0  \n",
       "55715    1.0  \n",
       "55716    1.0  \n",
       "55717    1.0  \n",
       "\n",
       "[55718 rows x 9 columns]"
      ]
     },
     "execution_count": 26,
     "metadata": {},
     "output_type": "execute_result"
    }
   ],
   "source": [
    "data"
   ]
  },
  {
   "cell_type": "code",
   "execution_count": 27,
   "id": "f66d9636-e5dd-4ebc-bd83-b2dda44d5348",
   "metadata": {},
   "outputs": [
    {
     "data": {
      "text/plain": [
       "array([0.66666667, 0.33333333, 1.        , 0.        ])"
      ]
     },
     "execution_count": 27,
     "metadata": {},
     "output_type": "execute_result"
    }
   ],
   "source": [
    "data['dep_time'].unique()"
   ]
  },
  {
   "cell_type": "code",
   "execution_count": 28,
   "id": "931b13e8-63ff-474a-9d01-8ac51b37079e",
   "metadata": {},
   "outputs": [],
   "source": [
    "stop_values = ['non-stop', '1-stop', '2+-stop']\n",
    "stop_array = [stop_values.index(stop) for stop in data[\"stop\"]]\n",
    "data[\"stop\"] = norm(stop_array)"
   ]
  },
  {
   "cell_type": "code",
   "execution_count": 29,
   "id": "afa65c4b-4f04-4eb1-88fd-1752fe85fd05",
   "metadata": {},
   "outputs": [
    {
     "data": {
      "text/plain": [
       "dep_time\n",
       "0.333333    23757\n",
       "0.666667    15825\n",
       "1.000000    13967\n",
       "Name: count, dtype: int64"
      ]
     },
     "execution_count": 29,
     "metadata": {},
     "output_type": "execute_result"
    }
   ],
   "source": [
    "data = data.set_index('dep_time')\n",
    "data = data.drop([0.0], axis=0)\n",
    "data = data.reset_index()\n",
    "data[\"dep_time\"].value_counts()"
   ]
  },
  {
   "cell_type": "code",
   "execution_count": 30,
   "id": "9dab9ee9-8471-49a6-8407-a8eaaceb72b1",
   "metadata": {},
   "outputs": [
    {
     "data": {
      "text/html": [
       "<div>\n",
       "<style scoped>\n",
       "    .dataframe tbody tr th:only-of-type {\n",
       "        vertical-align: middle;\n",
       "    }\n",
       "\n",
       "    .dataframe tbody tr th {\n",
       "        vertical-align: top;\n",
       "    }\n",
       "\n",
       "    .dataframe thead th {\n",
       "        text-align: right;\n",
       "    }\n",
       "</style>\n",
       "<table border=\"1\" class=\"dataframe\">\n",
       "  <thead>\n",
       "    <tr style=\"text-align: right;\">\n",
       "      <th></th>\n",
       "      <th>dep_time</th>\n",
       "      <th>time_taken</th>\n",
       "      <th>airline</th>\n",
       "      <th>from</th>\n",
       "      <th>stop</th>\n",
       "      <th>arr_time</th>\n",
       "      <th>to</th>\n",
       "      <th>price</th>\n",
       "      <th>class</th>\n",
       "    </tr>\n",
       "  </thead>\n",
       "  <tbody>\n",
       "    <tr>\n",
       "      <th>0</th>\n",
       "      <td>0.666667</td>\n",
       "      <td>0.000</td>\n",
       "      <td>0.000000</td>\n",
       "      <td>0.0</td>\n",
       "      <td>0.0</td>\n",
       "      <td>1.000000</td>\n",
       "      <td>0.6</td>\n",
       "      <td>3,845</td>\n",
       "      <td>0.0</td>\n",
       "    </tr>\n",
       "    <tr>\n",
       "      <th>1</th>\n",
       "      <td>0.333333</td>\n",
       "      <td>0.125</td>\n",
       "      <td>0.000000</td>\n",
       "      <td>0.0</td>\n",
       "      <td>0.5</td>\n",
       "      <td>0.666667</td>\n",
       "      <td>0.2</td>\n",
       "      <td>4,028</td>\n",
       "      <td>0.0</td>\n",
       "    </tr>\n",
       "    <tr>\n",
       "      <th>2</th>\n",
       "      <td>1.000000</td>\n",
       "      <td>0.250</td>\n",
       "      <td>0.333333</td>\n",
       "      <td>0.2</td>\n",
       "      <td>0.5</td>\n",
       "      <td>0.333333</td>\n",
       "      <td>0.8</td>\n",
       "      <td>11,520</td>\n",
       "      <td>0.0</td>\n",
       "    </tr>\n",
       "    <tr>\n",
       "      <th>3</th>\n",
       "      <td>1.000000</td>\n",
       "      <td>0.000</td>\n",
       "      <td>0.666667</td>\n",
       "      <td>0.4</td>\n",
       "      <td>0.0</td>\n",
       "      <td>1.000000</td>\n",
       "      <td>0.8</td>\n",
       "      <td>4,453</td>\n",
       "      <td>0.0</td>\n",
       "    </tr>\n",
       "    <tr>\n",
       "      <th>4</th>\n",
       "      <td>0.333333</td>\n",
       "      <td>0.125</td>\n",
       "      <td>1.000000</td>\n",
       "      <td>0.0</td>\n",
       "      <td>0.5</td>\n",
       "      <td>1.000000</td>\n",
       "      <td>1.0</td>\n",
       "      <td>7,212</td>\n",
       "      <td>0.0</td>\n",
       "    </tr>\n",
       "    <tr>\n",
       "      <th>...</th>\n",
       "      <td>...</td>\n",
       "      <td>...</td>\n",
       "      <td>...</td>\n",
       "      <td>...</td>\n",
       "      <td>...</td>\n",
       "      <td>...</td>\n",
       "      <td>...</td>\n",
       "      <td>...</td>\n",
       "      <td>...</td>\n",
       "    </tr>\n",
       "    <tr>\n",
       "      <th>53544</th>\n",
       "      <td>0.333333</td>\n",
       "      <td>0.000</td>\n",
       "      <td>1.000000</td>\n",
       "      <td>1.0</td>\n",
       "      <td>0.5</td>\n",
       "      <td>0.666667</td>\n",
       "      <td>0.2</td>\n",
       "      <td>37,670</td>\n",
       "      <td>1.0</td>\n",
       "    </tr>\n",
       "    <tr>\n",
       "      <th>53545</th>\n",
       "      <td>1.000000</td>\n",
       "      <td>0.250</td>\n",
       "      <td>0.333333</td>\n",
       "      <td>0.2</td>\n",
       "      <td>0.5</td>\n",
       "      <td>0.333333</td>\n",
       "      <td>0.0</td>\n",
       "      <td>47,714</td>\n",
       "      <td>1.0</td>\n",
       "    </tr>\n",
       "    <tr>\n",
       "      <th>53546</th>\n",
       "      <td>0.666667</td>\n",
       "      <td>0.375</td>\n",
       "      <td>0.333333</td>\n",
       "      <td>0.2</td>\n",
       "      <td>1.0</td>\n",
       "      <td>0.333333</td>\n",
       "      <td>0.8</td>\n",
       "      <td>67,421</td>\n",
       "      <td>1.0</td>\n",
       "    </tr>\n",
       "    <tr>\n",
       "      <th>53547</th>\n",
       "      <td>0.666667</td>\n",
       "      <td>0.125</td>\n",
       "      <td>1.000000</td>\n",
       "      <td>0.6</td>\n",
       "      <td>0.5</td>\n",
       "      <td>1.000000</td>\n",
       "      <td>1.0</td>\n",
       "      <td>70,431</td>\n",
       "      <td>1.0</td>\n",
       "    </tr>\n",
       "    <tr>\n",
       "      <th>53548</th>\n",
       "      <td>1.000000</td>\n",
       "      <td>0.375</td>\n",
       "      <td>1.000000</td>\n",
       "      <td>0.6</td>\n",
       "      <td>0.5</td>\n",
       "      <td>0.666667</td>\n",
       "      <td>0.2</td>\n",
       "      <td>81,519</td>\n",
       "      <td>1.0</td>\n",
       "    </tr>\n",
       "  </tbody>\n",
       "</table>\n",
       "<p>53549 rows × 9 columns</p>\n",
       "</div>"
      ],
      "text/plain": [
       "       dep_time  time_taken   airline  from  stop  arr_time   to   price  \\\n",
       "0      0.666667       0.000  0.000000   0.0   0.0  1.000000  0.6   3,845   \n",
       "1      0.333333       0.125  0.000000   0.0   0.5  0.666667  0.2   4,028   \n",
       "2      1.000000       0.250  0.333333   0.2   0.5  0.333333  0.8  11,520   \n",
       "3      1.000000       0.000  0.666667   0.4   0.0  1.000000  0.8   4,453   \n",
       "4      0.333333       0.125  1.000000   0.0   0.5  1.000000  1.0   7,212   \n",
       "...         ...         ...       ...   ...   ...       ...  ...     ...   \n",
       "53544  0.333333       0.000  1.000000   1.0   0.5  0.666667  0.2  37,670   \n",
       "53545  1.000000       0.250  0.333333   0.2   0.5  0.333333  0.0  47,714   \n",
       "53546  0.666667       0.375  0.333333   0.2   1.0  0.333333  0.8  67,421   \n",
       "53547  0.666667       0.125  1.000000   0.6   0.5  1.000000  1.0  70,431   \n",
       "53548  1.000000       0.375  1.000000   0.6   0.5  0.666667  0.2  81,519   \n",
       "\n",
       "       class  \n",
       "0        0.0  \n",
       "1        0.0  \n",
       "2        0.0  \n",
       "3        0.0  \n",
       "4        0.0  \n",
       "...      ...  \n",
       "53544    1.0  \n",
       "53545    1.0  \n",
       "53546    1.0  \n",
       "53547    1.0  \n",
       "53548    1.0  \n",
       "\n",
       "[53549 rows x 9 columns]"
      ]
     },
     "execution_count": 30,
     "metadata": {},
     "output_type": "execute_result"
    }
   ],
   "source": [
    "data"
   ]
  },
  {
   "cell_type": "code",
   "execution_count": 31,
   "id": "59dc34a1-d51c-4a4e-af39-1054c1d80543",
   "metadata": {},
   "outputs": [],
   "source": [
    "data[\"price\"] = [float(price.replace(\",\", \"\")) for price in data[\"price\"]]"
   ]
  },
  {
   "cell_type": "code",
   "execution_count": 32,
   "id": "f12dbafa-a7bd-4c89-92c0-fedd84fe01a6",
   "metadata": {},
   "outputs": [
    {
     "data": {
      "text/plain": [
       "array([  3845.,   4028.,  11520., ...,  82071., 101531.,  37670.])"
      ]
     },
     "execution_count": 32,
     "metadata": {},
     "output_type": "execute_result"
    }
   ],
   "source": [
    "data[\"price\"].unique()"
   ]
  },
  {
   "cell_type": "code",
   "execution_count": 33,
   "id": "b3b556ca-ebfa-47b9-8071-7a04b1be2b40",
   "metadata": {},
   "outputs": [],
   "source": [
    "corr = {\n",
    "    \"airline\": st.correlation(data[\"airline\"], data[\"price\"]),\n",
    "    \"dep_time\": st.correlation(data[\"dep_time\"], data[\"price\"]),\n",
    "    \"from\": st.correlation(data[\"from\"], data[\"price\"]),\n",
    "    \"time_taken\": st.correlation(data[\"time_taken\"], data[\"price\"]),\n",
    "    \"stop\": st.correlation(data[\"stop\"], data[\"price\"]),\n",
    "    \"arr_time\": st.correlation(data[\"arr_time\"], data[\"price\"]),\n",
    "    \"to\": st.correlation(data[\"to\"], data[\"price\"]),\n",
    "    \"class\": st.correlation(data[\"class\"], data[\"price\"])\n",
    "}"
   ]
  },
  {
   "cell_type": "code",
   "execution_count": 34,
   "id": "66f1812d-92bf-410b-b63c-a63ab669a809",
   "metadata": {},
   "outputs": [
    {
     "data": {
      "text/plain": [
       "{'airline': 0.26394424967119967,\n",
       " 'dep_time': 0.0539676294251541,\n",
       " 'from': 0.013622120925250818,\n",
       " 'time_taken': 0.16754340326239983,\n",
       " 'stop': 0.06944986338741085,\n",
       " 'arr_time': 0.005206900281462125,\n",
       " 'to': 0.0031836507254306696,\n",
       " 'class': 0.9295202329055136}"
      ]
     },
     "execution_count": 34,
     "metadata": {},
     "output_type": "execute_result"
    }
   ],
   "source": [
    "corr"
   ]
  },
  {
   "cell_type": "code",
   "execution_count": 35,
   "id": "bb356102-cb52-40ff-b02c-64f9cb1977ce",
   "metadata": {},
   "outputs": [
    {
     "data": {
      "text/plain": [
       "array([0. , 0.2, 0.4, 0.6, 0.8, 1. ])"
      ]
     },
     "execution_count": 35,
     "metadata": {},
     "output_type": "execute_result"
    }
   ],
   "source": [
    "data[\"from\"].unique()"
   ]
  },
  {
   "cell_type": "code",
   "execution_count": 36,
   "id": "80424c97-3f86-4d0b-b30b-08ae19e2f6e9",
   "metadata": {},
   "outputs": [
    {
     "data": {
      "text/plain": [
       "0.3230953320979538"
      ]
     },
     "execution_count": 36,
     "metadata": {},
     "output_type": "execute_result"
    }
   ],
   "source": [
    "data['airline'].std()"
   ]
  },
  {
   "cell_type": "code",
   "execution_count": 37,
   "id": "2a89bd2a-73c2-4383-a678-edb433a2de31",
   "metadata": {},
   "outputs": [],
   "source": [
    "data = data.dropna()\n",
    "data = data.drop_duplicates()\n",
    "data = data.sample(frac=1).reset_index(drop=True)"
   ]
  },
  {
   "cell_type": "code",
   "execution_count": 38,
   "id": "8ec1b9c5-35c2-4584-bf1a-ae8d74e80af1",
   "metadata": {},
   "outputs": [],
   "source": [
    "targets = data[\"price\"]\n",
    "del data[\"price\"]"
   ]
  },
  {
   "cell_type": "code",
   "execution_count": 39,
   "id": "79c25339-d876-42a3-b967-2ca37977d8e4",
   "metadata": {},
   "outputs": [
    {
     "data": {
      "text/html": [
       "<div>\n",
       "<style scoped>\n",
       "    .dataframe tbody tr th:only-of-type {\n",
       "        vertical-align: middle;\n",
       "    }\n",
       "\n",
       "    .dataframe tbody tr th {\n",
       "        vertical-align: top;\n",
       "    }\n",
       "\n",
       "    .dataframe thead th {\n",
       "        text-align: right;\n",
       "    }\n",
       "</style>\n",
       "<table border=\"1\" class=\"dataframe\">\n",
       "  <thead>\n",
       "    <tr style=\"text-align: right;\">\n",
       "      <th></th>\n",
       "      <th>dep_time</th>\n",
       "      <th>time_taken</th>\n",
       "      <th>airline</th>\n",
       "      <th>from</th>\n",
       "      <th>stop</th>\n",
       "      <th>arr_time</th>\n",
       "      <th>to</th>\n",
       "      <th>class</th>\n",
       "    </tr>\n",
       "  </thead>\n",
       "  <tbody>\n",
       "    <tr>\n",
       "      <th>0</th>\n",
       "      <td>0.666667</td>\n",
       "      <td>0.375</td>\n",
       "      <td>0.333333</td>\n",
       "      <td>0.4</td>\n",
       "      <td>0.5</td>\n",
       "      <td>0.666667</td>\n",
       "      <td>0.2</td>\n",
       "      <td>0.0</td>\n",
       "    </tr>\n",
       "    <tr>\n",
       "      <th>1</th>\n",
       "      <td>0.333333</td>\n",
       "      <td>0.250</td>\n",
       "      <td>0.333333</td>\n",
       "      <td>0.0</td>\n",
       "      <td>0.5</td>\n",
       "      <td>1.000000</td>\n",
       "      <td>0.6</td>\n",
       "      <td>0.0</td>\n",
       "    </tr>\n",
       "    <tr>\n",
       "      <th>2</th>\n",
       "      <td>0.666667</td>\n",
       "      <td>0.125</td>\n",
       "      <td>0.666667</td>\n",
       "      <td>1.0</td>\n",
       "      <td>0.5</td>\n",
       "      <td>1.000000</td>\n",
       "      <td>0.6</td>\n",
       "      <td>0.0</td>\n",
       "    </tr>\n",
       "    <tr>\n",
       "      <th>3</th>\n",
       "      <td>0.333333</td>\n",
       "      <td>0.125</td>\n",
       "      <td>0.666667</td>\n",
       "      <td>1.0</td>\n",
       "      <td>0.5</td>\n",
       "      <td>0.666667</td>\n",
       "      <td>0.8</td>\n",
       "      <td>0.0</td>\n",
       "    </tr>\n",
       "    <tr>\n",
       "      <th>4</th>\n",
       "      <td>0.333333</td>\n",
       "      <td>0.250</td>\n",
       "      <td>1.000000</td>\n",
       "      <td>1.0</td>\n",
       "      <td>0.5</td>\n",
       "      <td>1.000000</td>\n",
       "      <td>0.4</td>\n",
       "      <td>0.0</td>\n",
       "    </tr>\n",
       "    <tr>\n",
       "      <th>...</th>\n",
       "      <td>...</td>\n",
       "      <td>...</td>\n",
       "      <td>...</td>\n",
       "      <td>...</td>\n",
       "      <td>...</td>\n",
       "      <td>...</td>\n",
       "      <td>...</td>\n",
       "      <td>...</td>\n",
       "    </tr>\n",
       "    <tr>\n",
       "      <th>37265</th>\n",
       "      <td>0.333333</td>\n",
       "      <td>0.125</td>\n",
       "      <td>0.666667</td>\n",
       "      <td>0.2</td>\n",
       "      <td>0.5</td>\n",
       "      <td>0.666667</td>\n",
       "      <td>0.6</td>\n",
       "      <td>0.0</td>\n",
       "    </tr>\n",
       "    <tr>\n",
       "      <th>37266</th>\n",
       "      <td>0.333333</td>\n",
       "      <td>0.125</td>\n",
       "      <td>0.666667</td>\n",
       "      <td>0.2</td>\n",
       "      <td>0.5</td>\n",
       "      <td>0.666667</td>\n",
       "      <td>0.8</td>\n",
       "      <td>0.0</td>\n",
       "    </tr>\n",
       "    <tr>\n",
       "      <th>37267</th>\n",
       "      <td>1.000000</td>\n",
       "      <td>0.125</td>\n",
       "      <td>0.666667</td>\n",
       "      <td>0.6</td>\n",
       "      <td>0.5</td>\n",
       "      <td>0.000000</td>\n",
       "      <td>0.4</td>\n",
       "      <td>0.0</td>\n",
       "    </tr>\n",
       "    <tr>\n",
       "      <th>37268</th>\n",
       "      <td>1.000000</td>\n",
       "      <td>0.250</td>\n",
       "      <td>1.000000</td>\n",
       "      <td>0.0</td>\n",
       "      <td>0.5</td>\n",
       "      <td>0.333333</td>\n",
       "      <td>0.6</td>\n",
       "      <td>0.0</td>\n",
       "    </tr>\n",
       "    <tr>\n",
       "      <th>37269</th>\n",
       "      <td>0.333333</td>\n",
       "      <td>0.375</td>\n",
       "      <td>1.000000</td>\n",
       "      <td>0.8</td>\n",
       "      <td>0.5</td>\n",
       "      <td>0.333333</td>\n",
       "      <td>0.4</td>\n",
       "      <td>0.0</td>\n",
       "    </tr>\n",
       "  </tbody>\n",
       "</table>\n",
       "<p>37270 rows × 8 columns</p>\n",
       "</div>"
      ],
      "text/plain": [
       "       dep_time  time_taken   airline  from  stop  arr_time   to  class\n",
       "0      0.666667       0.375  0.333333   0.4   0.5  0.666667  0.2    0.0\n",
       "1      0.333333       0.250  0.333333   0.0   0.5  1.000000  0.6    0.0\n",
       "2      0.666667       0.125  0.666667   1.0   0.5  1.000000  0.6    0.0\n",
       "3      0.333333       0.125  0.666667   1.0   0.5  0.666667  0.8    0.0\n",
       "4      0.333333       0.250  1.000000   1.0   0.5  1.000000  0.4    0.0\n",
       "...         ...         ...       ...   ...   ...       ...  ...    ...\n",
       "37265  0.333333       0.125  0.666667   0.2   0.5  0.666667  0.6    0.0\n",
       "37266  0.333333       0.125  0.666667   0.2   0.5  0.666667  0.8    0.0\n",
       "37267  1.000000       0.125  0.666667   0.6   0.5  0.000000  0.4    0.0\n",
       "37268  1.000000       0.250  1.000000   0.0   0.5  0.333333  0.6    0.0\n",
       "37269  0.333333       0.375  1.000000   0.8   0.5  0.333333  0.4    0.0\n",
       "\n",
       "[37270 rows x 8 columns]"
      ]
     },
     "execution_count": 39,
     "metadata": {},
     "output_type": "execute_result"
    }
   ],
   "source": [
    "data"
   ]
  },
  {
   "cell_type": "code",
   "execution_count": 40,
   "id": "8ba2b622-89f7-4e67-8e14-ca05969542ef",
   "metadata": {},
   "outputs": [
    {
     "data": {
      "text/plain": [
       "class\n",
       "0.0    30470\n",
       "1.0     6800\n",
       "Name: count, dtype: int64"
      ]
     },
     "execution_count": 40,
     "metadata": {},
     "output_type": "execute_result"
    }
   ],
   "source": [
    "data['class'].value_counts()"
   ]
  },
  {
   "cell_type": "code",
   "execution_count": null,
   "id": "c6008c18-560b-45da-8999-6a897b31b7db",
   "metadata": {},
   "outputs": [],
   "source": []
  },
  {
   "cell_type": "code",
   "execution_count": 41,
   "id": "17e95e7c-b261-438b-9601-90768ca32bfc",
   "metadata": {},
   "outputs": [
    {
     "data": {
      "text/plain": [
       "29816.0"
      ]
     },
     "execution_count": 41,
     "metadata": {},
     "output_type": "execute_result"
    }
   ],
   "source": [
    "data.shape\n",
    "counts_train = (data.shape[0]/100)*80\n",
    "counts_train"
   ]
  },
  {
   "cell_type": "code",
   "execution_count": 98,
   "id": "7aff33de-1335-48db-b00f-265c05ccbb60",
   "metadata": {},
   "outputs": [],
   "source": [
    "counts_train = round((data.shape[0]/100)*80)\n",
    "counts_tests = counts_train + round((data.shape[0]/100)*15)\n",
    "\n",
    "x_train = data[:counts_train]\n",
    "y_train = targets[:counts_train]\n",
    "\n",
    "x_test = data[counts_train+1:counts_tests]\n",
    "y_test = targets[counts_train+1:counts_tests]\n",
    "\n",
    "x_validate = data[counts_tests+1:]\n",
    "y_validate = targets[counts_tests+1:]"
   ]
  },
  {
   "cell_type": "code",
   "execution_count": 99,
   "id": "69d42d51-cef5-4d78-817c-8e1f16afa255",
   "metadata": {},
   "outputs": [],
   "source": [
    "model = models.Sequential()\n",
    "model.add(layers.Input(shape=(8, )))\n",
    "model.add(layers.Dense(4, activation = \"relu\"))\n",
    "model.add(layers.Dense(8, activation = \"relu\"))\n",
    "model.add(layers.Dense(2, activation = \"relu\"))\n",
    "model.add(layers.Dense(1, activation = \"relu\"))"
   ]
  },
  {
   "cell_type": "code",
   "execution_count": 100,
   "id": "92d9eaa8-3a29-402c-acbe-b32a7b6c4d6e",
   "metadata": {},
   "outputs": [
    {
     "data": {
      "text/html": [
       "<pre style=\"white-space:pre;overflow-x:auto;line-height:normal;font-family:Menlo,'DejaVu Sans Mono',consolas,'Courier New',monospace\"><span style=\"font-weight: bold\">Model: \"sequential_8\"</span>\n",
       "</pre>\n"
      ],
      "text/plain": [
       "\u001b[1mModel: \"sequential_8\"\u001b[0m\n"
      ]
     },
     "metadata": {},
     "output_type": "display_data"
    },
    {
     "data": {
      "text/html": [
       "<pre style=\"white-space:pre;overflow-x:auto;line-height:normal;font-family:Menlo,'DejaVu Sans Mono',consolas,'Courier New',monospace\">┏━━━━━━━━━━━━━━━━━━━━━━━━━━━━━━━━━┳━━━━━━━━━━━━━━━━━━━━━━━━┳━━━━━━━━━━━━━━━┓\n",
       "┃<span style=\"font-weight: bold\"> Layer (type)                    </span>┃<span style=\"font-weight: bold\"> Output Shape           </span>┃<span style=\"font-weight: bold\">       Param # </span>┃\n",
       "┡━━━━━━━━━━━━━━━━━━━━━━━━━━━━━━━━━╇━━━━━━━━━━━━━━━━━━━━━━━━╇━━━━━━━━━━━━━━━┩\n",
       "│ dense_26 (<span style=\"color: #0087ff; text-decoration-color: #0087ff\">Dense</span>)                │ (<span style=\"color: #00d7ff; text-decoration-color: #00d7ff\">None</span>, <span style=\"color: #00af00; text-decoration-color: #00af00\">4</span>)              │            <span style=\"color: #00af00; text-decoration-color: #00af00\">36</span> │\n",
       "├─────────────────────────────────┼────────────────────────┼───────────────┤\n",
       "│ dense_27 (<span style=\"color: #0087ff; text-decoration-color: #0087ff\">Dense</span>)                │ (<span style=\"color: #00d7ff; text-decoration-color: #00d7ff\">None</span>, <span style=\"color: #00af00; text-decoration-color: #00af00\">8</span>)              │            <span style=\"color: #00af00; text-decoration-color: #00af00\">40</span> │\n",
       "├─────────────────────────────────┼────────────────────────┼───────────────┤\n",
       "│ dense_28 (<span style=\"color: #0087ff; text-decoration-color: #0087ff\">Dense</span>)                │ (<span style=\"color: #00d7ff; text-decoration-color: #00d7ff\">None</span>, <span style=\"color: #00af00; text-decoration-color: #00af00\">2</span>)              │            <span style=\"color: #00af00; text-decoration-color: #00af00\">18</span> │\n",
       "├─────────────────────────────────┼────────────────────────┼───────────────┤\n",
       "│ dense_29 (<span style=\"color: #0087ff; text-decoration-color: #0087ff\">Dense</span>)                │ (<span style=\"color: #00d7ff; text-decoration-color: #00d7ff\">None</span>, <span style=\"color: #00af00; text-decoration-color: #00af00\">1</span>)              │             <span style=\"color: #00af00; text-decoration-color: #00af00\">3</span> │\n",
       "└─────────────────────────────────┴────────────────────────┴───────────────┘\n",
       "</pre>\n"
      ],
      "text/plain": [
       "┏━━━━━━━━━━━━━━━━━━━━━━━━━━━━━━━━━┳━━━━━━━━━━━━━━━━━━━━━━━━┳━━━━━━━━━━━━━━━┓\n",
       "┃\u001b[1m \u001b[0m\u001b[1mLayer (type)                   \u001b[0m\u001b[1m \u001b[0m┃\u001b[1m \u001b[0m\u001b[1mOutput Shape          \u001b[0m\u001b[1m \u001b[0m┃\u001b[1m \u001b[0m\u001b[1m      Param #\u001b[0m\u001b[1m \u001b[0m┃\n",
       "┡━━━━━━━━━━━━━━━━━━━━━━━━━━━━━━━━━╇━━━━━━━━━━━━━━━━━━━━━━━━╇━━━━━━━━━━━━━━━┩\n",
       "│ dense_26 (\u001b[38;5;33mDense\u001b[0m)                │ (\u001b[38;5;45mNone\u001b[0m, \u001b[38;5;34m4\u001b[0m)              │            \u001b[38;5;34m36\u001b[0m │\n",
       "├─────────────────────────────────┼────────────────────────┼───────────────┤\n",
       "│ dense_27 (\u001b[38;5;33mDense\u001b[0m)                │ (\u001b[38;5;45mNone\u001b[0m, \u001b[38;5;34m8\u001b[0m)              │            \u001b[38;5;34m40\u001b[0m │\n",
       "├─────────────────────────────────┼────────────────────────┼───────────────┤\n",
       "│ dense_28 (\u001b[38;5;33mDense\u001b[0m)                │ (\u001b[38;5;45mNone\u001b[0m, \u001b[38;5;34m2\u001b[0m)              │            \u001b[38;5;34m18\u001b[0m │\n",
       "├─────────────────────────────────┼────────────────────────┼───────────────┤\n",
       "│ dense_29 (\u001b[38;5;33mDense\u001b[0m)                │ (\u001b[38;5;45mNone\u001b[0m, \u001b[38;5;34m1\u001b[0m)              │             \u001b[38;5;34m3\u001b[0m │\n",
       "└─────────────────────────────────┴────────────────────────┴───────────────┘\n"
      ]
     },
     "metadata": {},
     "output_type": "display_data"
    },
    {
     "data": {
      "text/html": [
       "<pre style=\"white-space:pre;overflow-x:auto;line-height:normal;font-family:Menlo,'DejaVu Sans Mono',consolas,'Courier New',monospace\"><span style=\"font-weight: bold\"> Total params: </span><span style=\"color: #00af00; text-decoration-color: #00af00\">97</span> (388.00 B)\n",
       "</pre>\n"
      ],
      "text/plain": [
       "\u001b[1m Total params: \u001b[0m\u001b[38;5;34m97\u001b[0m (388.00 B)\n"
      ]
     },
     "metadata": {},
     "output_type": "display_data"
    },
    {
     "data": {
      "text/html": [
       "<pre style=\"white-space:pre;overflow-x:auto;line-height:normal;font-family:Menlo,'DejaVu Sans Mono',consolas,'Courier New',monospace\"><span style=\"font-weight: bold\"> Trainable params: </span><span style=\"color: #00af00; text-decoration-color: #00af00\">97</span> (388.00 B)\n",
       "</pre>\n"
      ],
      "text/plain": [
       "\u001b[1m Trainable params: \u001b[0m\u001b[38;5;34m97\u001b[0m (388.00 B)\n"
      ]
     },
     "metadata": {},
     "output_type": "display_data"
    },
    {
     "data": {
      "text/html": [
       "<pre style=\"white-space:pre;overflow-x:auto;line-height:normal;font-family:Menlo,'DejaVu Sans Mono',consolas,'Courier New',monospace\"><span style=\"font-weight: bold\"> Non-trainable params: </span><span style=\"color: #00af00; text-decoration-color: #00af00\">0</span> (0.00 B)\n",
       "</pre>\n"
      ],
      "text/plain": [
       "\u001b[1m Non-trainable params: \u001b[0m\u001b[38;5;34m0\u001b[0m (0.00 B)\n"
      ]
     },
     "metadata": {},
     "output_type": "display_data"
    }
   ],
   "source": [
    "model.summary()"
   ]
  },
  {
   "cell_type": "code",
   "execution_count": 101,
   "id": "555bab71-a14f-4b14-b330-887bb5f0ca24",
   "metadata": {},
   "outputs": [],
   "source": [
    "model.compile(loss='mean_squared_error', optimizer=Adam(), metrics=['mape'])"
   ]
  },
  {
   "cell_type": "code",
   "execution_count": 102,
   "id": "99de133f-56e3-4d06-ae8d-4f498f45ca0e",
   "metadata": {},
   "outputs": [
    {
     "name": "stdout",
     "output_type": "stream",
     "text": [
      "Epoch 1/20\n",
      "\u001b[1m3727/3727\u001b[0m \u001b[32m━━━━━━━━━━━━━━━━━━━━\u001b[0m\u001b[37m\u001b[0m \u001b[1m4s\u001b[0m 733us/step - loss: 691954048.0000 - mape: 92.2812 - val_loss: 362236128.0000 - val_mape: 136.7407\n",
      "Epoch 2/20\n",
      "\u001b[1m3727/3727\u001b[0m \u001b[32m━━━━━━━━━━━━━━━━━━━━\u001b[0m\u001b[37m\u001b[0m \u001b[1m3s\u001b[0m 728us/step - loss: 338549536.0000 - mape: 140.3725 - val_loss: 255361584.0000 - val_mape: 131.6407\n",
      "Epoch 3/20\n",
      "\u001b[1m3727/3727\u001b[0m \u001b[32m━━━━━━━━━━━━━━━━━━━━\u001b[0m\u001b[37m\u001b[0m \u001b[1m3s\u001b[0m 737us/step - loss: 214058272.0000 - mape: 119.3967 - val_loss: 81690056.0000 - val_mape: 72.8722\n",
      "Epoch 4/20\n",
      "\u001b[1m3727/3727\u001b[0m \u001b[32m━━━━━━━━━━━━━━━━━━━━\u001b[0m\u001b[37m\u001b[0m \u001b[1m3s\u001b[0m 731us/step - loss: 75356736.0000 - mape: 61.3909 - val_loss: 54938172.0000 - val_mape: 46.7831\n",
      "Epoch 5/20\n",
      "\u001b[1m3727/3727\u001b[0m \u001b[32m━━━━━━━━━━━━━━━━━━━━\u001b[0m\u001b[37m\u001b[0m \u001b[1m3s\u001b[0m 723us/step - loss: 62077096.0000 - mape: 46.8326 - val_loss: 53316252.0000 - val_mape: 43.3783\n",
      "Epoch 6/20\n",
      "\u001b[1m3727/3727\u001b[0m \u001b[32m━━━━━━━━━━━━━━━━━━━━\u001b[0m\u001b[37m\u001b[0m \u001b[1m3s\u001b[0m 740us/step - loss: 58398036.0000 - mape: 45.0482 - val_loss: 52654040.0000 - val_mape: 43.9704\n",
      "Epoch 7/20\n",
      "\u001b[1m3727/3727\u001b[0m \u001b[32m━━━━━━━━━━━━━━━━━━━━\u001b[0m\u001b[37m\u001b[0m \u001b[1m3s\u001b[0m 751us/step - loss: 57888048.0000 - mape: 45.2223 - val_loss: 52331308.0000 - val_mape: 43.5228\n",
      "Epoch 8/20\n",
      "\u001b[1m3727/3727\u001b[0m \u001b[32m━━━━━━━━━━━━━━━━━━━━\u001b[0m\u001b[37m\u001b[0m \u001b[1m3s\u001b[0m 718us/step - loss: 57932364.0000 - mape: 44.6817 - val_loss: 52175964.0000 - val_mape: 45.5325\n",
      "Epoch 9/20\n",
      "\u001b[1m3727/3727\u001b[0m \u001b[32m━━━━━━━━━━━━━━━━━━━━\u001b[0m\u001b[37m\u001b[0m \u001b[1m3s\u001b[0m 735us/step - loss: 59256292.0000 - mape: 44.9669 - val_loss: 51939884.0000 - val_mape: 43.1057\n",
      "Epoch 10/20\n",
      "\u001b[1m3727/3727\u001b[0m \u001b[32m━━━━━━━━━━━━━━━━━━━━\u001b[0m\u001b[37m\u001b[0m \u001b[1m3s\u001b[0m 750us/step - loss: 59575652.0000 - mape: 44.2972 - val_loss: 51701296.0000 - val_mape: 45.1285\n",
      "Epoch 11/20\n",
      "\u001b[1m3727/3727\u001b[0m \u001b[32m━━━━━━━━━━━━━━━━━━━━\u001b[0m\u001b[37m\u001b[0m \u001b[1m3s\u001b[0m 750us/step - loss: 57169200.0000 - mape: 44.6056 - val_loss: 51583640.0000 - val_mape: 43.7419\n",
      "Epoch 12/20\n",
      "\u001b[1m3727/3727\u001b[0m \u001b[32m━━━━━━━━━━━━━━━━━━━━\u001b[0m\u001b[37m\u001b[0m \u001b[1m3s\u001b[0m 735us/step - loss: 58126756.0000 - mape: 44.5967 - val_loss: 51362964.0000 - val_mape: 43.8086\n",
      "Epoch 13/20\n",
      "\u001b[1m3727/3727\u001b[0m \u001b[32m━━━━━━━━━━━━━━━━━━━━\u001b[0m\u001b[37m\u001b[0m \u001b[1m3s\u001b[0m 717us/step - loss: 57178256.0000 - mape: 44.6455 - val_loss: 51215756.0000 - val_mape: 43.4539\n",
      "Epoch 14/20\n",
      "\u001b[1m3727/3727\u001b[0m \u001b[32m━━━━━━━━━━━━━━━━━━━━\u001b[0m\u001b[37m\u001b[0m \u001b[1m3s\u001b[0m 749us/step - loss: 57029288.0000 - mape: 44.1755 - val_loss: 50999640.0000 - val_mape: 43.8358\n",
      "Epoch 15/20\n",
      "\u001b[1m3727/3727\u001b[0m \u001b[32m━━━━━━━━━━━━━━━━━━━━\u001b[0m\u001b[37m\u001b[0m \u001b[1m3s\u001b[0m 720us/step - loss: 57895936.0000 - mape: 44.4161 - val_loss: 51066112.0000 - val_mape: 44.5937\n",
      "Epoch 16/20\n",
      "\u001b[1m3727/3727\u001b[0m \u001b[32m━━━━━━━━━━━━━━━━━━━━\u001b[0m\u001b[37m\u001b[0m \u001b[1m3s\u001b[0m 727us/step - loss: 56106456.0000 - mape: 44.5405 - val_loss: 50902644.0000 - val_mape: 45.2164\n",
      "Epoch 17/20\n",
      "\u001b[1m3727/3727\u001b[0m \u001b[32m━━━━━━━━━━━━━━━━━━━━\u001b[0m\u001b[37m\u001b[0m \u001b[1m3s\u001b[0m 730us/step - loss: 56421924.0000 - mape: 44.3403 - val_loss: 50600496.0000 - val_mape: 42.7157\n",
      "Epoch 18/20\n",
      "\u001b[1m3727/3727\u001b[0m \u001b[32m━━━━━━━━━━━━━━━━━━━━\u001b[0m\u001b[37m\u001b[0m \u001b[1m3s\u001b[0m 738us/step - loss: 55603764.0000 - mape: 44.2854 - val_loss: 50369644.0000 - val_mape: 43.5233\n",
      "Epoch 19/20\n",
      "\u001b[1m3727/3727\u001b[0m \u001b[32m━━━━━━━━━━━━━━━━━━━━\u001b[0m\u001b[37m\u001b[0m \u001b[1m3s\u001b[0m 735us/step - loss: 55603436.0000 - mape: 44.6770 - val_loss: 50240252.0000 - val_mape: 43.6435\n",
      "Epoch 20/20\n",
      "\u001b[1m3727/3727\u001b[0m \u001b[32m━━━━━━━━━━━━━━━━━━━━\u001b[0m\u001b[37m\u001b[0m \u001b[1m3s\u001b[0m 734us/step - loss: 56836324.0000 - mape: 44.4689 - val_loss: 50225836.0000 - val_mape: 41.9882\n"
     ]
    }
   ],
   "source": [
    "results = model.fit(x_train, y_train, epochs= 20, batch_size = 8, validation_data = (x_validate, y_validate))"
   ]
  },
  {
   "cell_type": "code",
   "execution_count": 103,
   "id": "1ed2b58a-6f28-4618-aa75-adb9a19fdc17",
   "metadata": {},
   "outputs": [
    {
     "data": {
      "text/plain": [
       "7479.027476884946"
      ]
     },
     "execution_count": 103,
     "metadata": {},
     "output_type": "execute_result"
    }
   ],
   "source": [
    "math.sqrt(results.history[\"loss\"][-1])"
   ]
  },
  {
   "cell_type": "code",
   "execution_count": 104,
   "id": "d20439d9-ee43-4b26-8619-255b10fce73d",
   "metadata": {},
   "outputs": [
    {
     "name": "stdout",
     "output_type": "stream",
     "text": [
      "\u001b[1m175/175\u001b[0m \u001b[32m━━━━━━━━━━━━━━━━━━━━\u001b[0m\u001b[37m\u001b[0m \u001b[1m0s\u001b[0m 512us/step - loss: 55491520.0000 - mape: 42.8772\n"
     ]
    }
   ],
   "source": [
    "score = model.evaluate(x_test, y_test)"
   ]
  },
  {
   "cell_type": "code",
   "execution_count": 105,
   "id": "e9dfdba0-0c7a-4b3e-b529-61c7bbb515ce",
   "metadata": {},
   "outputs": [
    {
     "name": "stdout",
     "output_type": "stream",
     "text": [
      "Корень из средней квадратичной ошибки: 7429.192688307391\n"
     ]
    }
   ],
   "source": [
    "print(\"Корень из средней квадратичной ошибки:\", math.sqrt(score[0]))"
   ]
  },
  {
   "cell_type": "code",
   "execution_count": 93,
   "id": "e7602344-36e7-4382-b065-0de0d0283d38",
   "metadata": {},
   "outputs": [
    {
     "name": "stdout",
     "output_type": "stream",
     "text": [
      "\u001b[1m1/1\u001b[0m \u001b[32m━━━━━━━━━━━━━━━━━━━━\u001b[0m\u001b[37m\u001b[0m \u001b[1m0s\u001b[0m 40ms/step\n"
     ]
    },
    {
     "data": {
      "text/plain": [
       "array([[8883.294]], dtype=float32)"
      ]
     },
     "execution_count": 93,
     "metadata": {},
     "output_type": "execute_result"
    }
   ],
   "source": [
    "model.predict(np.array([0.2,\t0.000,\t0.666667,\t0.0,\t0.5,\t0.6,\t1.0,\t0.0]).reshape(1, -1))"
   ]
  },
  {
   "cell_type": "code",
   "execution_count": 106,
   "id": "970ffc96-4a5b-4e80-804e-fc15e4468657",
   "metadata": {},
   "outputs": [
    {
     "name": "stderr",
     "output_type": "stream",
     "text": [
      "WARNING:absl:You are saving your model as an HDF5 file via `model.save()` or `keras.saving.save_model(model)`. This file format is considered legacy. We recommend using instead the native Keras format, e.g. `model.save('my_model.keras')` or `keras.saving.save_model(model, 'my_model.keras')`. \n"
     ]
    }
   ],
   "source": [
    "model.save(\"model.h5\")"
   ]
  },
  {
   "cell_type": "code",
   "execution_count": null,
   "id": "250eece6-d930-4ead-96f4-0f2ad9c12185",
   "metadata": {},
   "outputs": [],
   "source": []
  }
 ],
 "metadata": {
  "kernelspec": {
   "display_name": "Python 3 (ipykernel)",
   "language": "python",
   "name": "python3"
  },
  "language_info": {
   "codemirror_mode": {
    "name": "ipython",
    "version": 3
   },
   "file_extension": ".py",
   "mimetype": "text/x-python",
   "name": "python",
   "nbconvert_exporter": "python",
   "pygments_lexer": "ipython3",
   "version": "3.12.3"
  }
 },
 "nbformat": 4,
 "nbformat_minor": 5
}
